{
 "cells": [
  {
   "cell_type": "code",
   "execution_count": 32,
   "metadata": {},
   "outputs": [],
   "source": [
    "import yfinance as yf\n",
    "import pickle\n",
    "from lstm_model import LSTM\n",
    "import torch\n",
    "from sklearn.preprocessing import MinMaxScaler\n",
    "\n",
    "import json\n",
    "\n",
    "import matplotlib.font_manager as fm\n",
    "import matplotlib.dates as mdates\n",
    "import matplotlib.pyplot as plt\n",
    "import numpy as np\n",
    "import pandas as pd\n",
    "from sklearn.metrics import mean_absolute_error, mean_squared_error\n",
    "from sklearn.preprocessing import MinMaxScaler\n",
    "import torch\n",
    "import torch.nn as nn\n",
    "import yfinance as yf\n",
    "\n",
    "from scripts.config import FONT_PATH\n",
    "from lstm_model import LSTM\n",
    "from scripts.utils import get_train_test_sets\n",
    "\n",
    "from sklearn.neural_network import MLPRegressor\n",
    "from sklearn.model_selection import train_test_split\n",
    "from sklearn.preprocessing import StandardScaler"
   ]
  },
  {
   "cell_type": "code",
   "execution_count": 40,
   "metadata": {},
   "outputs": [
    {
     "name": "stdout",
     "output_type": "stream",
     "text": [
      "bitcoin\n",
      "solana\n",
      "raydium\n",
      "orca\n",
      "ethereum\n",
      "uniswap\n"
     ]
    }
   ],
   "source": [
    "df = pd.DataFrame()\n",
    "\n",
    "tickers = {\n",
    "    'bitcoin': 'BTC-USD',\n",
    "    'solana': 'SOL-USD',\n",
    "    'raydium': 'RAY-USD',\n",
    "    'orca': 'ORCA-USD',\n",
    "    'ethereum': 'ETH-USD',\n",
    "    'uniswap': 'UNI7083-USD'\n",
    "    }\n",
    "\n",
    "for name, ticker in tickers.items():\n",
    "    print(name)\n",
    "    # Download data\n",
    "    raw_price_data = yf.download(ticker, start='2020-01-01', end='2024-03-31', progress=False)\n",
    "\n",
    "    # Normalize data\n",
    "    scaler = MinMaxScaler()\n",
    "    normalized_price_data = scaler.fit_transform(raw_price_data['Close'].values.reshape(-1, 1))\n",
    "\n",
    "    # Model parameters\n",
    "    input_size = 5\n",
    "    hidden_layer_size = 250\n",
    "    output_size = 1\n",
    "\n",
    "    # Load model\n",
    "    file_path = f'models/lstm_{name}.pkl'\n",
    "    model = LSTM(input_size, hidden_layer_size, output_size)\n",
    "    model.load_state_dict(torch.load(file_path))\n",
    "    \n",
    "    # Create a tensor for the entire data\n",
    "    x_all = torch.from_numpy(normalized_price_data.astype(np.float32)).view(-1, 1)\n",
    "\n",
    "    # Predict the prices using a sliding window\n",
    "    y_all_pred = []\n",
    "    for i in range(5, len(x_all)):\n",
    "        x = x_all[i-5:i].view(1, 5, 1)\n",
    "        y_pred = model.test_model(x)\n",
    "        y_all_pred.append(y_pred.item())\n",
    "\n",
    "    # Convert to numpy array and reshape\n",
    "    y_all_pred = np.array(y_all_pred).reshape(-1, 1)\n",
    "\n",
    "    # Inverse transform to get actual prices\n",
    "    y_all_pred = scaler.inverse_transform(y_all_pred)\n",
    "    y_all = scaler.inverse_transform(normalized_price_data[5:])\n",
    "\n",
    "    df[name] = raw_price_data['Close']\n",
    "    df[f'{name}_predicted'] = np.insert(y_all_pred, 0, [[np.nan]]*(len(df) - len(y_all_pred)), axis=0)"
   ]
  },
  {
   "cell_type": "code",
   "execution_count": 41,
   "metadata": {},
   "outputs": [],
   "source": [
    "# Read the data\n",
    "df_tvl = pd.read_csv('./data/chain-dataset-Solana.csv')\n",
    "\n",
    "# Filter for 'Raydium' and 'Orca'\n",
    "df_tvl = df_tvl[df_tvl['Protocol'].isin(['Raydium', 'Orca'])].T\n",
    "\n",
    "# Drop first row and convert index to datetime\n",
    "df_tvl.drop(df_tvl.index[0], inplace=True)\n",
    "df_tvl.index = pd.to_datetime(df_tvl.index, format='%d/%m/%Y')\n",
    "\n",
    "# Rename columns\n",
    "df_tvl.columns = ['raydium_tvl', 'orca_tvl']\n",
    "\n",
    "# Drop NaN values\n",
    "df_tvl.dropna(inplace=True)\n",
    "\n",
    "# Merge the dataframes\n",
    "df['raydium_tvl'] = df_tvl['raydium_tvl']\n",
    "df['orca_tvl'] = df_tvl['orca_tvl']"
   ]
  },
  {
   "cell_type": "code",
   "execution_count": 82,
   "metadata": {},
   "outputs": [
    {
     "data": {
      "text/plain": [
       "MLPRegressor(hidden_layer_sizes=(50, 50), max_iter=1500, random_state=42)"
      ]
     },
     "execution_count": 82,
     "metadata": {},
     "output_type": "execute_result"
    }
   ],
   "source": [
    "# Select the columns to use in the model\n",
    "model_data = df[['bitcoin_predicted', 'solana', 'raydium_predicted', 'raydium_tvl', 'ethereum_predicted', 'uniswap_predicted']].dropna()\n",
    "\n",
    "# Split the data into input (X) and output (y) variables\n",
    "X = model_data.drop('solana', axis=1)\n",
    "y = model_data['solana']\n",
    "\n",
    "# Split the data into training and testing sets\n",
    "X_train, X_test, y_train, y_test = train_test_split(X, y, test_size=0.2, random_state=42)\n",
    "\n",
    "# Standardize the data\n",
    "scaler = StandardScaler()\n",
    "X_train = scaler.fit_transform(X_train)\n",
    "X_test = scaler.transform(X_test)\n",
    "\n",
    "# Create the MLP model\n",
    "model = MLPRegressor(hidden_layer_sizes=(50, 50), learning_rate_init=0.001, max_iter=1500, random_state=42)\n",
    "\n",
    "# Train the model\n",
    "model.fit(X_train, y_train)"
   ]
  },
  {
   "cell_type": "code",
   "execution_count": 83,
   "metadata": {},
   "outputs": [
    {
     "name": "stdout",
     "output_type": "stream",
     "text": [
      "Mean Absolute Error (MAE): 4.6725293649694555\n",
      "Mean Squared Error (MSE): 41.72202658641535\n",
      "R^2 Score: 0.9862472406077132\n"
     ]
    }
   ],
   "source": [
    "from sklearn.metrics import mean_absolute_error, mean_squared_error, r2_score\n",
    "\n",
    "# Make predictions for the test set\n",
    "y_pred = model.predict(X_test)\n",
    "\n",
    "# Calculate metrics\n",
    "mae = mean_absolute_error(y_test, y_pred)\n",
    "mse = mean_squared_error(y_test, y_pred)\n",
    "r2 = r2_score(y_test, y_pred)\n",
    "\n",
    "print(f\"Mean Absolute Error (MAE): {mae}\")\n",
    "print(f\"Mean Squared Error (MSE): {mse}\")\n",
    "print(f\"R^2 Score: {r2}\")"
   ]
  },
  {
   "cell_type": "code",
   "execution_count": 84,
   "metadata": {},
   "outputs": [
    {
     "name": "stdout",
     "output_type": "stream",
     "text": [
      "Mean Absolute Error (MAE) for all data: 4.394805097878702\n",
      "Mean Squared Error (MSE) for all data: 42.257334384216\n",
      "R^2 Score for all data: 0.9870349739503836\n"
     ]
    }
   ],
   "source": [
    "X_all = scaler.transform(X)\n",
    "y_all_pred = model.predict(X_all)\n",
    "y_all_pred = pd.Series(y_all_pred.flatten(), index=y.index)\n",
    "\n",
    "mae_all = mean_absolute_error(y, y_all_pred)\n",
    "mse_all = mean_squared_error(y, y_all_pred)\n",
    "r2_all = r2_score(y, y_all_pred)\n",
    "\n",
    "print(f\"Mean Absolute Error (MAE) for all data: {mae_all}\")\n",
    "print(f\"Mean Squared Error (MSE) for all data: {mse_all}\")\n",
    "print(f\"R^2 Score for all data: {r2_all}\")"
   ]
  },
  {
   "cell_type": "code",
   "execution_count": 85,
   "metadata": {},
   "outputs": [
    {
     "data": {
      "text/plain": [
       "[<matplotlib.lines.Line2D at 0x1ad806ea370>]"
      ]
     },
     "execution_count": 85,
     "metadata": {},
     "output_type": "execute_result"
    },
    {
     "data": {
      "image/png": "[encoded data removed]",
      "text/plain": [
       "<Figure size 432x288 with 1 Axes>"
      ]
     },
     "metadata": {
      "needs_background": "light"
     },
     "output_type": "display_data"
    }
   ],
   "source": [
    "plt.plot(y, label='Actual')\n",
    "plt.plot(y_all_pred, label='Predicted')"
   ]
  },
  {
   "cell_type": "code",
   "execution_count": 86,
   "metadata": {},
   "outputs": [],
   "source": [
    "# Initialize variables\n",
    "capital = 10000  # starting capital\n",
    "in_trade = False\n",
    "trades = []\n",
    "symbol = 'SOL-USD'  # replace with your symbol\n",
    "\n",
    "# Iterate over the data\n",
    "for i in range(1, len(y)):\n",
    "    # If we predict the price will go up tomorrow and we're not already in a trade\n",
    "    if y_all_pred[i] > y[i-1] and not in_trade:\n",
    "        # Enter the trade\n",
    "        in_trade = True\n",
    "        entry_price = y[i]\n",
    "        entry_date = y.index[i]\n",
    "        quantity = capital / entry_price  # calculate quantity\n",
    "    # If we predict the price will go down tomorrow and we're in a trade\n",
    "    elif y_all_pred[i] < y[i-1] and in_trade:\n",
    "        # Exit the trade\n",
    "        in_trade = False\n",
    "        exit_price = y[i]\n",
    "        exit_date = y.index[i]\n",
    "        # Calculate return\n",
    "        trade_return = np.log(exit_price / entry_price) / (exit_date - entry_date).days * 100\n",
    "        # Add trade to list\n",
    "        trades.append([entry_date, symbol, quantity, entry_price, exit_date, exit_price, trade_return, trade_return])\n",
    "\n",
    "# Create DataFrame\n",
    "trades_df = pd.DataFrame(trades, columns=['Entry Date', 'Symbol', 'Quantity', 'Entry Price', 'Exit Date', 'Exit Price', 'Return', 'Return per Trade Day'])\n",
    "trades_df['Return (USD)'] = trades_df['Quantity'] * (trades_df['Exit Price'] - trades_df['Entry Price'])"
   ]
  },
  {
   "cell_type": "code",
   "execution_count": 87,
   "metadata": {},
   "outputs": [
    {
     "name": "stdout",
     "output_type": "stream",
     "text": [
      "Number of trades: 93\n",
      "Number of profitable trades: 58\n",
      "Number of losing trades: 35\n",
      "Average return of profitable trades: 3.4575284215028423\n",
      "Average return of losing trades: -2.982051784384498\n",
      "Overall average return: 1.0340304945559944\n"
     ]
    }
   ],
   "source": [
    "# Number of trades\n",
    "num_trades = len(trades_df)\n",
    "\n",
    "# Number of profitable trades\n",
    "num_profitable_trades = len(trades_df[trades_df['Return'] > 0])\n",
    "\n",
    "# Number of losing trades\n",
    "num_losing_trades = len(trades_df[trades_df['Return'] < 0])\n",
    "\n",
    "# Average return of profitable trades\n",
    "avg_return_profitable_trades = trades_df[trades_df['Return'] > 0]['Return'].mean()\n",
    "\n",
    "# Average return of losing trades\n",
    "avg_return_losing_trades = trades_df[trades_df['Return'] < 0]['Return'].mean()\n",
    "\n",
    "# Overall average return\n",
    "avg_return = trades_df['Return'].mean()\n",
    "\n",
    "print(f\"Number of trades: {num_trades}\")\n",
    "print(f\"Number of profitable trades: {num_profitable_trades}\")\n",
    "print(f\"Number of losing trades: {num_losing_trades}\")\n",
    "print(f\"Average return of profitable trades: {avg_return_profitable_trades}\")\n",
    "print(f\"Average return of losing trades: {avg_return_losing_trades}\")\n",
    "print(f\"Overall average return: {avg_return}\")"
   ]
  },
  {
   "cell_type": "code",
   "execution_count": 88,
   "metadata": {},
   "outputs": [
    {
     "data": {
      "text/html": [
       "<div>\n",
       "<style scoped>\n",
       "    .dataframe tbody tr th:only-of-type {\n",
       "        vertical-align: middle;\n",
       "    }\n",
       "\n",
       "    .dataframe tbody tr th {\n",
       "        vertical-align: top;\n",
       "    }\n",
       "\n",
       "    .dataframe thead th {\n",
       "        text-align: right;\n",
       "    }\n",
       "</style>\n",
       "<table border=\"1\" class=\"dataframe\">\n",
       "  <thead>\n",
       "    <tr style=\"text-align: right;\">\n",
       "      <th></th>\n",
       "      <th>Entry Date</th>\n",
       "      <th>Symbol</th>\n",
       "      <th>Quantity</th>\n",
       "      <th>Entry Price</th>\n",
       "      <th>Exit Date</th>\n",
       "      <th>Exit Price</th>\n",
       "      <th>Return</th>\n",
       "      <th>Return per Trade Day</th>\n",
       "      <th>Return (USD)</th>\n",
       "    </tr>\n",
       "  </thead>\n",
       "  <tbody>\n",
       "    <tr>\n",
       "      <th>0</th>\n",
       "      <td>2021-04-15</td>\n",
       "      <td>SOL-USD</td>\n",
       "      <td>359.475421</td>\n",
       "      <td>27.818314</td>\n",
       "      <td>2021-04-19</td>\n",
       "      <td>31.675896</td>\n",
       "      <td>3.246536</td>\n",
       "      <td>3.246536</td>\n",
       "      <td>1386.705948</td>\n",
       "    </tr>\n",
       "    <tr>\n",
       "      <th>1</th>\n",
       "      <td>2021-04-21</td>\n",
       "      <td>SOL-USD</td>\n",
       "      <td>307.568878</td>\n",
       "      <td>32.513042</td>\n",
       "      <td>2021-04-23</td>\n",
       "      <td>36.978420</td>\n",
       "      <td>6.434660</td>\n",
       "      <td>6.434660</td>\n",
       "      <td>1373.411244</td>\n",
       "    </tr>\n",
       "    <tr>\n",
       "      <th>2</th>\n",
       "      <td>2021-04-30</td>\n",
       "      <td>SOL-USD</td>\n",
       "      <td>232.796343</td>\n",
       "      <td>42.956001</td>\n",
       "      <td>2021-05-02</td>\n",
       "      <td>46.890987</td>\n",
       "      <td>4.382456</td>\n",
       "      <td>4.382456</td>\n",
       "      <td>916.050376</td>\n",
       "    </tr>\n",
       "    <tr>\n",
       "      <th>3</th>\n",
       "      <td>2021-05-03</td>\n",
       "      <td>SOL-USD</td>\n",
       "      <td>217.705135</td>\n",
       "      <td>45.933689</td>\n",
       "      <td>2021-05-04</td>\n",
       "      <td>42.729557</td>\n",
       "      <td>-7.230793</td>\n",
       "      <td>-7.230793</td>\n",
       "      <td>-697.556008</td>\n",
       "    </tr>\n",
       "    <tr>\n",
       "      <th>4</th>\n",
       "      <td>2021-05-12</td>\n",
       "      <td>SOL-USD</td>\n",
       "      <td>235.530703</td>\n",
       "      <td>42.457310</td>\n",
       "      <td>2021-05-13</td>\n",
       "      <td>40.997852</td>\n",
       "      <td>-3.497941</td>\n",
       "      <td>-3.497941</td>\n",
       "      <td>-343.747027</td>\n",
       "    </tr>\n",
       "    <tr>\n",
       "      <th>...</th>\n",
       "      <td>...</td>\n",
       "      <td>...</td>\n",
       "      <td>...</td>\n",
       "      <td>...</td>\n",
       "      <td>...</td>\n",
       "      <td>...</td>\n",
       "      <td>...</td>\n",
       "      <td>...</td>\n",
       "      <td>...</td>\n",
       "    </tr>\n",
       "    <tr>\n",
       "      <th>88</th>\n",
       "      <td>2024-02-05</td>\n",
       "      <td>SOL-USD</td>\n",
       "      <td>104.658715</td>\n",
       "      <td>95.548660</td>\n",
       "      <td>2024-02-07</td>\n",
       "      <td>100.979279</td>\n",
       "      <td>2.763984</td>\n",
       "      <td>2.763984</td>\n",
       "      <td>568.361531</td>\n",
       "    </tr>\n",
       "    <tr>\n",
       "      <th>89</th>\n",
       "      <td>2024-02-17</td>\n",
       "      <td>SOL-USD</td>\n",
       "      <td>91.756574</td>\n",
       "      <td>108.984016</td>\n",
       "      <td>2024-02-19</td>\n",
       "      <td>111.485329</td>\n",
       "      <td>1.134588</td>\n",
       "      <td>1.134588</td>\n",
       "      <td>229.511844</td>\n",
       "    </tr>\n",
       "    <tr>\n",
       "      <th>90</th>\n",
       "      <td>2024-02-21</td>\n",
       "      <td>SOL-USD</td>\n",
       "      <td>95.124651</td>\n",
       "      <td>105.125221</td>\n",
       "      <td>2024-02-25</td>\n",
       "      <td>103.453491</td>\n",
       "      <td>-0.400752</td>\n",
       "      <td>-0.400752</td>\n",
       "      <td>-159.022737</td>\n",
       "    </tr>\n",
       "    <tr>\n",
       "      <th>91</th>\n",
       "      <td>2024-03-03</td>\n",
       "      <td>SOL-USD</td>\n",
       "      <td>76.657214</td>\n",
       "      <td>130.450867</td>\n",
       "      <td>2024-03-15</td>\n",
       "      <td>182.964691</td>\n",
       "      <td>2.819138</td>\n",
       "      <td>2.819138</td>\n",
       "      <td>4025.563478</td>\n",
       "    </tr>\n",
       "    <tr>\n",
       "      <th>92</th>\n",
       "      <td>2024-03-20</td>\n",
       "      <td>SOL-USD</td>\n",
       "      <td>52.205794</td>\n",
       "      <td>191.549622</td>\n",
       "      <td>2024-03-21</td>\n",
       "      <td>179.220749</td>\n",
       "      <td>-6.652862</td>\n",
       "      <td>-6.652862</td>\n",
       "      <td>-643.638582</td>\n",
       "    </tr>\n",
       "  </tbody>\n",
       "</table>\n",
       "<p>93 rows × 9 columns</p>\n",
       "</div>"
      ],
      "text/plain": [
       "   Entry Date   Symbol    Quantity  Entry Price  Exit Date  Exit Price  \\\n",
       "0  2021-04-15  SOL-USD  359.475421    27.818314 2021-04-19   31.675896   \n",
       "1  2021-04-21  SOL-USD  307.568878    32.513042 2021-04-23   36.978420   \n",
       "2  2021-04-30  SOL-USD  232.796343    42.956001 2021-05-02   46.890987   \n",
       "3  2021-05-03  SOL-USD  217.705135    45.933689 2021-05-04   42.729557   \n",
       "4  2021-05-12  SOL-USD  235.530703    42.457310 2021-05-13   40.997852   \n",
       "..        ...      ...         ...          ...        ...         ...   \n",
       "88 2024-02-05  SOL-USD  104.658715    95.548660 2024-02-07  100.979279   \n",
       "89 2024-02-17  SOL-USD   91.756574   108.984016 2024-02-19  111.485329   \n",
       "90 2024-02-21  SOL-USD   95.124651   105.125221 2024-02-25  103.453491   \n",
       "91 2024-03-03  SOL-USD   76.657214   130.450867 2024-03-15  182.964691   \n",
       "92 2024-03-20  SOL-USD   52.205794   191.549622 2024-03-21  179.220749   \n",
       "\n",
       "      Return  Return per Trade Day  Return (USD)  \n",
       "0   3.246536              3.246536   1386.705948  \n",
       "1   6.434660              6.434660   1373.411244  \n",
       "2   4.382456              4.382456    916.050376  \n",
       "3  -7.230793             -7.230793   -697.556008  \n",
       "4  -3.497941             -3.497941   -343.747027  \n",
       "..       ...                   ...           ...  \n",
       "88  2.763984              2.763984    568.361531  \n",
       "89  1.134588              1.134588    229.511844  \n",
       "90 -0.400752             -0.400752   -159.022737  \n",
       "91  2.819138              2.819138   4025.563478  \n",
       "92 -6.652862             -6.652862   -643.638582  \n",
       "\n",
       "[93 rows x 9 columns]"
      ]
     },
     "execution_count": 88,
     "metadata": {},
     "output_type": "execute_result"
    }
   ],
   "source": [
    "trades_df"
   ]
  },
  {
   "cell_type": "code",
   "execution_count": 89,
   "metadata": {},
   "outputs": [
    {
     "data": {
      "text/plain": [
       "65609.93189999898"
      ]
     },
     "execution_count": 89,
     "metadata": {},
     "output_type": "execute_result"
    }
   ],
   "source": [
    "sum(trades_df['Return (USD)'])"
   ]
  },
  {
   "cell_type": "code",
   "execution_count": null,
   "metadata": {},
   "outputs": [],
   "source": []
  }
 ],
 "metadata": {
  "kernelspec": {
   "display_name": "base",
   "language": "python",
   "name": "python3"
  },
  "language_info": {
   "codemirror_mode": {
    "name": "ipython",
    "version": 3
   },
   "file_extension": ".py",
   "mimetype": "text/x-python",
   "name": "python",
   "nbconvert_exporter": "python",
   "pygments_lexer": "ipython3",
   "version": "3.9.12"
  }
 },
 "nbformat": 4,
 "nbformat_minor": 2
}
